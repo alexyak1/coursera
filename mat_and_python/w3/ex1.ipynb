{
 "cells": [
  {
   "cell_type": "code",
   "execution_count": 1,
   "metadata": {},
   "outputs": [],
   "source": [
    "from math import sin, exp\n",
    "\n",
    "def function1(x):\n",
    "    return sin(x / 5.) * exp(x / 10.) + 5. * exp(-x / 2.)"
   ]
  },
  {
   "cell_type": "code",
   "execution_count": 18,
   "metadata": {},
   "outputs": [],
   "source": [
    "import numpy\n",
    "\n",
    "xArray1 = numpy.arange(1., 31.)\n",
    "print(xArray1)\n",
    "print(\"Shape x:\", xArray1.shape)\n",
    "yArray1 = np.array([function1(x) for x in xArray1])\n",
    "print(yArray1)\n",
    "print(\"Shape y: \", yArray1.shape)"
   ]
  },
  {
   "cell_type": "code",
   "execution_count": 19,
   "metadata": {},
   "outputs": [],
   "source": [
    "import pandas as pd\n",
    "\n",
    "import matplotlib.pyplot as plt\n",
    "\n",
    "plt.plot(xArray1, yArray1)\n",
    "plt.grid(True)\n",
    "plt.axis([0, 30, -15, 5])\n",
    "plt.show()"
   ]
  },
  {
   "cell_type": "code",
   "execution_count": null,
   "metadata": {},
   "outputs": [],
   "source": [
    "from scipy.optimize import minimize\n",
    "\n",
    "minFunc1Value1 = minimize(function1, 5)\n",
    "print(\"Minimized f(x) (standard method): \", round(minFunc1Value1.fun, 3), \"for x = \", round(minFunc1Value1.x, 3))\n",
    "print(\"Number of iterations: \", minFunc1Value1.nit)"
   ]
  },
  {
   "cell_type": "code",
   "execution_count": null,
   "metadata": {},
   "outputs": [],
   "source": [
    "from scipy.optimize import minimize\n",
    "\n",
    "minFunc1Value1 = minimize(function1, 5)\n",
    "print(\"Minimized f(x) (standard method): \", round(minFunc1Value1.fun, 3), \"for x = \", round(minFunc1Value1.x, 3))\n",
    "print (\"Number of iterations: \", minFunc1Value1.nit)"
   ]
  },
  {
   "cell_type": "code",
   "execution_count": null,
   "metadata": {},
   "outputs": [],
   "source": [
    "minFunc1Value2 = minimize(func1, 2, method = 'BFGS')\n",
    "print \"Minimized f(x) (BFGS method): \", round(minFunc1Value2.fun, 3), \"for x = \", round(minFunc1Value2.x, 3)\n",
    "print \"Number of iterations: \", minFunc1Value2.nit\n",
    "\n",
    "minValuesAnswer1 = np.zeros( (2) )\n",
    "minValuesAnswer1[0] = round(minFunc1Value2.fun, 2)\n",
    "print minValuesAnswer1"
   ]
  },
  {
   "cell_type": "code",
   "execution_count": null,
   "metadata": {},
   "outputs": [],
   "source": [
    "minFunc1Value3 = minimize(func1, 30, method = 'BFGS')\n",
    "print \"Minimized f(x) (BFGS method): \", round(minFunc1Value3.fun, 3), \"for x = \", round(minFunc1Value3.x, 3)\n",
    "print \"Number of iterations: \", minFunc1Value3.nit\n",
    "\n",
    "minValuesAnswer1[1] = round(minFunc1Value3.fun, 2)\n",
    "print minValuesAnswer1"
   ]
  },
  {
   "cell_type": "code",
   "execution_count": null,
   "metadata": {},
   "outputs": [],
   "source": [
    "print minValuesAnswer1\n",
    "\n",
    "with open(\"AnswerTask1.txt\", \"w\") as fAnswer:\n",
    "    for item in minValuesAnswer1:\n",
    "        fAnswer.write(str(item) + ' ')"
   ]
  }
 ],
 "metadata": {
  "kernelspec": {
   "display_name": "Python 3",
   "language": "python",
   "name": "python3"
  },
  "language_info": {
   "codemirror_mode": {
    "name": "ipython",
    "version": 3
   },
   "file_extension": ".py",
   "mimetype": "text/x-python",
   "name": "python",
   "nbconvert_exporter": "python",
   "pygments_lexer": "ipython3",
   "version": "3.8.5"
  }
 },
 "nbformat": 4,
 "nbformat_minor": 4
}