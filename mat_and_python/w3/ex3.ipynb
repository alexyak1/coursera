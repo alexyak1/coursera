{
 "cells": [
  {
   "cell_type": "code",
   "execution_count": null,
   "metadata": {},
   "outputs": [],
   "source": [
    "def func2(x): return int(func1(x))\n",
    "\n",
    "xArr2 = np.arange(1., 31., 0.01)\n",
    "print xArr2\n",
    "print \"Shape x:\", xArr2.shape\n",
    "yArr2 = np.array([func2(x) for x in xArr2])\n",
    "print yArr2\n",
    "print \"Shape y:\", yArr2.shape"
   ]
  },
  {
   "cell_type": "code",
   "execution_count": null,
   "metadata": {},
   "outputs": [],
   "source": [
    "plt.plot(xArr2, yArr2)\n",
    "plt.grid(True)\n",
    "plt.axis([0, 30, -15, 5])\n",
    "plt.show()"
   ]
  },
  {
   "cell_type": "code",
   "execution_count": null,
   "metadata": {},
   "outputs": [],
   "source": [
    "minFunc2Value1 = minimize(func2, 30, method = 'BFGS')\n",
    "print \"Minimized f(x) (BFGS method): \", round(minFunc2Value1.fun, 3), \"for x = \", round(minFunc2Value1.x, 3)\n",
    "print \"Number of iterations: \", minFunc2Value1.nit\n",
    "\n",
    "minValuesAnswer2 = np.zeros( (2) )\n",
    "minValuesAnswer2[0] = round(minFunc2Value1.fun, 2)\n",
    "print minValuesAnswer2"
   ]
  },
  {
   "cell_type": "code",
   "execution_count": null,
   "metadata": {},
   "outputs": [],
   "source": [
    "minFunc2Value2 = differential_evolution(func2, bounds)\n",
    "print \"Minimized f(x) (BFGS method): \", round(minFunc2Value2.fun, 3), \"for x = \", round(minFunc2Value2.x, 3)\n",
    "print \"Number of iterations: \", minFunc2Value2.nit\n",
    "\n",
    "minValuesAnswer2[1] = round(minFunc2Value2.fun, 2)\n",
    "print minValuesAnswer2"
   ]
  },
  {
   "cell_type": "code",
   "execution_count": null,
   "metadata": {},
   "outputs": [],
   "source": [
    "with open(\"AnswerTask3.txt\", \"w\") as fAnswer:\n",
    "    for item in minValuesAnswer2:\n",
    "        fAnswer.write(str(item) + ' ')"
   ]
  }
 ],
 "metadata": {
  "kernelspec": {
   "display_name": "Python 3",
   "language": "python",
   "name": "python3"
  },
  "language_info": {
   "codemirror_mode": {
    "name": "ipython",
    "version": 3
   },
   "file_extension": ".py",
   "mimetype": "text/x-python",
   "name": "python",
   "nbconvert_exporter": "python",
   "pygments_lexer": "ipython3",
   "version": "3.8.5"
  }
 },
 "nbformat": 4,
 "nbformat_minor": 4
}