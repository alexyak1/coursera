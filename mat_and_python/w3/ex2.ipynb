{
 "cells": [
  {
   "cell_type": "code",
   "execution_count": null,
   "metadata": {},
   "outputs": [],
   "source": [
    "from scipy.optimize import differential_evolution\n",
    "\n",
    "bounds = [(1, 30)]\n",
    "minFunc1Value4 = differential_evolution(func1, bounds)\n",
    "print \"Minimized f(x) (differential evolution): \", round(minFunc1Value4.fun, 3), \"for x = \", round(minFunc1Value4.x, 3)\n",
    "print \"Number of iterations: \", minFunc1Value4.nit"
   ]
  },
  {
   "cell_type": "code",
   "execution_count": null,
   "metadata": {},
   "outputs": [],
   "source": [
    "with open(\"AnswerTask2.txt\", \"w\") as fAnswer:\n",
    "    fAnswer.write(str(round(minFunc1Value4.fun, 2)))"
   ]
  }
 ],
 "metadata": {
  "kernelspec": {
   "display_name": "Python 3",
   "language": "python",
   "name": "python3"
  },
  "language_info": {
   "codemirror_mode": {
    "name": "ipython",
    "version": 3
   },
   "file_extension": ".py",
   "mimetype": "text/x-python",
   "name": "python",
   "nbconvert_exporter": "python",
   "pygments_lexer": "ipython3",
   "version": "3.8.5"
  }
 },
 "nbformat": 4,
 "nbformat_minor": 4
}